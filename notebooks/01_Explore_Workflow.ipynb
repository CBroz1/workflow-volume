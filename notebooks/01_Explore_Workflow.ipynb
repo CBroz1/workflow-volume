{
 "cells": [
  {
   "attachments": {},
   "cell_type": "markdown",
   "id": "d26010d6-acbc-4c90-8b62-a2448c50452d",
   "metadata": {},
   "source": [
    "DataJoint U24 - Workflow Volume\n"
   ]
  },
  {
   "attachments": {},
   "cell_type": "markdown",
   "id": "a7eef3ff",
   "metadata": {},
   "source": [
    "### Intro\n"
   ]
  },
  {
   "attachments": {},
   "cell_type": "markdown",
   "id": "c5ffe5d2-5b2a-45c3-8d8f-8c20efa8c5eb",
   "metadata": {},
   "source": [
    "This notebook will describe the steps to use Element Volume for interacting with BossDB.\n",
    "Prior to using this notebook, please refer to documentation for\n",
    "[Element installation instructions](https://datajoint.com/docs/elements/user-guide/) and refer to [BossDB resources](https://www.youtube.com/watch?v=eVNr6Pzxoh8) for information on generating an account and configuring `intern`.\n",
    "\n",
    "Importantly, you'll need an `intern` config file, which should look like this:\n",
    "\n",
    "```cfg\n",
    "    # ~/.intern/intern.cfg\n",
    "    [Default]\n",
    "    protocol = https\n",
    "    host = api.bossdb.io\n",
    "    token = <YOUR_TOKEN>\n",
    "```\n"
   ]
  },
  {
   "cell_type": "code",
   "execution_count": 1,
   "id": "4351c4bb-9763-4d4d-8558-37662adc930e",
   "metadata": {},
   "outputs": [
    {
     "name": "stderr",
     "output_type": "stream",
     "text": [
      "[2023-01-30 15:47:26,090][INFO]: Connecting cbroz@dss-db.datajoint.io:3306\n",
      "[2023-01-30 15:47:26,388][INFO]: Connected cbroz@dss-db.datajoint.io:3306\n"
     ]
    },
    {
     "data": {
      "text/plain": [
       "DataJoint connection (connected) cbroz@dss-db.datajoint.io:3306"
      ]
     },
     "execution_count": 1,
     "metadata": {},
     "output_type": "execute_result"
    }
   ],
   "source": [
    "import datajoint as dj\n",
    "import os\n",
    "\n",
    "if os.path.basename(os.getcwd()) == \"notebooks\":\n",
    "    os.chdir(\"..\")\n",
    "dj.conn()"
   ]
  },
  {
   "cell_type": "code",
   "execution_count": 2,
   "id": "8164c105",
   "metadata": {},
   "outputs": [
    {
     "name": "stderr",
     "output_type": "stream",
     "text": [
      "[2023-01-30 15:47:26,504][WARNING]: lab.Project and related tables will be removed in a future version of Element Lab. Please use the project schema.\n"
     ]
    }
   ],
   "source": [
    "dj.config[\"custom\"][\"database.prefix\"] = \"cbroz_wfboss_\"\n",
    "dj.config[\"custom\"][\n",
    "    \"vol_root_data_dir\"\n",
    "] = \"/Users/cb/Documents/data/U24_SampleData/boss/\"\n",
    "from workflow_volume.pipeline import volume, BossDBInterface\n",
    "\n",
    "volume.Volume.delete_quick()"
   ]
  },
  {
   "attachments": {},
   "cell_type": "markdown",
   "id": "2c565d76",
   "metadata": {},
   "source": [
    "`BossDBInterface` works much like `intern.array`, but with additional functionality for managing records in your Element Volume schema. We can optionally link this dataset to a session in our pipeline via a session key.\n",
    "\n",
    "Note, however, that we'll have to change our notation slightly. Whereas we can directly index into a dataset to get slices, we'll need to either provide slices as a string or a tuple.\n"
   ]
  },
  {
   "attachments": {},
   "cell_type": "markdown",
   "id": "ce6defa5",
   "metadata": {},
   "source": [
    "### Testing\n"
   ]
  },
  {
   "cell_type": "code",
   "execution_count": 3,
   "id": "5c30306f",
   "metadata": {},
   "outputs": [
    {
     "name": "stderr",
     "output_type": "stream",
     "text": [
      "/Users/cb/Documents/dev/intern/intern/convenience/array.py:922: ImportWarning: CloudVolume is not installed. Accessing channel using CVDB.\n",
      "  warnings.warn(\n"
     ]
    }
   ],
   "source": [
    "data = BossDBInterface(\n",
    "    \"bossdb://takemura/takemura13/image\", resolution=4, session_key={}\n",
    ")"
   ]
  },
  {
   "attachments": {},
   "cell_type": "markdown",
   "id": "fcdc9d32",
   "metadata": {},
   "source": [
    "Using `intern` notion, we can look at Z slice 300, from Y voxels 200-500, and X voxels 0 to 700.\n"
   ]
  },
  {
   "cell_type": "code",
   "execution_count": 4,
   "id": "92faba75",
   "metadata": {},
   "outputs": [
    {
     "data": {
      "text/plain": [
       "array([[139, 152, 129, ..., 160, 125, 154],\n",
       "       [148, 146, 127, ..., 134, 118, 170],\n",
       "       [ 75, 173, 145, ..., 107, 115, 111],\n",
       "       ...,\n",
       "       [ 98,  99,  99, ..., 119,  93,  87],\n",
       "       [ 91,  86,  88, ...,  86,  79,  84],\n",
       "       [118, 130, 102, ...,  96,  88, 111]], dtype=uint8)"
      ]
     },
     "execution_count": 4,
     "metadata": {},
     "output_type": "execute_result"
    }
   ],
   "source": [
    "data[300, 200:501, 0:701]"
   ]
  },
  {
   "attachments": {},
   "cell_type": "markdown",
   "id": "3a19996e",
   "metadata": {},
   "source": [
    "The same data can be downloaded and loaded into Element Volume using either of the following commands.\n",
    "\n",
    "Without a session directory provided via `get_session_directory` in `workflow_volume.paths`, we will infer an output directory based on the BossDB path from `get_vol_root_data_dir`.\n"
   ]
  },
  {
   "cell_type": "code",
   "execution_count": 5,
   "id": "7e1e15f5",
   "metadata": {},
   "outputs": [],
   "source": [
    "# data.download(slice_key=(300,slice(200,501),slice(0,701)))\n",
    "data.download(slice_key=\"[300,200:501,0:701]\")"
   ]
  },
  {
   "attachments": {},
   "cell_type": "markdown",
   "id": "83cae27b",
   "metadata": {},
   "source": [
    "Our volume is stored in the `Volume`"
   ]
  },
  {
   "cell_type": "code",
   "execution_count": 7,
   "id": "6cb9c4da",
   "metadata": {},
   "outputs": [
    {
     "data": {
      "text/html": [
       "\n",
       "    \n",
       "    <style type=\"text/css\">\n",
       "        .Table{\n",
       "            border-collapse:collapse;\n",
       "        }\n",
       "        .Table th{\n",
       "            background: #565a72; color: #F8F8F2; padding:4px; border:#f0e0e0 1px solid;\n",
       "            font-weight: normal; font-family: monospace; font-size: 100%;\n",
       "        }\n",
       "        .Table td{\n",
       "            background: #282A36;\n",
       "            padding:4px; border:#f0e0e0 1px solid; font-size:100%;\n",
       "        }\n",
       "        .Table tr:nth-child(odd){\n",
       "            background: #44475A;\n",
       "        }\n",
       "        .Table tr:nth-child(even){\n",
       "            background: #282A36;\n",
       "        }\n",
       "        /* Tooltip container */\n",
       "        .djtooltip {\n",
       "        }\n",
       "        /* Tooltip text */\n",
       "        .djtooltip .djtooltiptext {\n",
       "            visibility: hidden;\n",
       "            width: 120px;\n",
       "            background-color: #282A36;\n",
       "            color: #6272A4;\n",
       "            text-align: center;\n",
       "            padding: 5px 0;\n",
       "            border-radius: 6px;\n",
       "            /* Position the tooltip text - see examples below! */\n",
       "            position: absolute;\n",
       "            z-index: 1;\n",
       "        }\n",
       "        #primary {\n",
       "            font-weight: bold;\n",
       "            color: #BD93F9;\n",
       "        }\n",
       "        #nonprimary {\n",
       "            font-weight: normal;\n",
       "            color: #F8F8F2;\n",
       "        }\n",
       "\n",
       "        /* Show the tooltip text when you mouse over the tooltip container */\n",
       "        .djtooltip:hover .djtooltiptext {\n",
       "            visibility: visible;\n",
       "        }\n",
       "    </style>\n",
       "    \n",
       "    <b>Dataset of a contiguous volume</b>\n",
       "        <div style=\"max-height:1000px;max-width:1500px;overflow:auto;\">\n",
       "        <table border=\"1\" class=\"Table\">\n",
       "            <thead> <tr style=\"text-align: right;\"> <th> <div class=\"djtooltip\">\n",
       "                            <p id=\"primary\">volume_id</p>\n",
       "                            <span class=\"djtooltiptext\">shorthand for this volume</span>\n",
       "                        </div></th><th><div class=\"djtooltip\">\n",
       "                            <p id=\"primary\">resolution_id</p>\n",
       "                            <span class=\"djtooltiptext\">Shorthand for convention. For BossDB, integer value.</span>\n",
       "                        </div></th><th><div class=\"djtooltip\">\n",
       "                            <p id=\"nonprimary\">subject</p>\n",
       "                            <span class=\"djtooltiptext\"></span>\n",
       "                        </div></th><th><div class=\"djtooltip\">\n",
       "                            <p id=\"nonprimary\">session_datetime</p>\n",
       "                            <span class=\"djtooltiptext\"></span>\n",
       "                        </div></th><th><div class=\"djtooltip\">\n",
       "                            <p id=\"nonprimary\">z_size</p>\n",
       "                            <span class=\"djtooltiptext\">total number of voxels in z dimension</span>\n",
       "                        </div></th><th><div class=\"djtooltip\">\n",
       "                            <p id=\"nonprimary\">y_size</p>\n",
       "                            <span class=\"djtooltiptext\">total number of voxels in y dimension</span>\n",
       "                        </div></th><th><div class=\"djtooltip\">\n",
       "                            <p id=\"nonprimary\">x_size</p>\n",
       "                            <span class=\"djtooltiptext\">total number of voxels in x dimension</span>\n",
       "                        </div></th><th><div class=\"djtooltip\">\n",
       "                            <p id=\"nonprimary\">slicing_dimension</p>\n",
       "                            <span class=\"djtooltiptext\">perspective of slices</span>\n",
       "                        </div></th><th><div class=\"djtooltip\">\n",
       "                            <p id=\"nonprimary\">channel</p>\n",
       "                            <span class=\"djtooltiptext\">data type or modality (e.g., EM, segmentation, etc.)</span>\n",
       "                        </div></th><th><div class=\"djtooltip\">\n",
       "                            <p id=\"nonprimary\">url</p>\n",
       "                            <span class=\"djtooltiptext\">dataset URL</span>\n",
       "                        </div> </th> </tr> </thead>\n",
       "            <tbody> <tr> <td>takemura/takemura13</td>\n",
       "<td>4</td>\n",
       "<td>None</td>\n",
       "<td>None</td>\n",
       "<td>1460</td>\n",
       "<td>750</td>\n",
       "<td>750</td>\n",
       "<td>z</td>\n",
       "<td>image</td>\n",
       "<td>https://api.bossdb.io/v1/mgmt/resources/takemura/takemura13/image</td> </tr> </tbody>\n",
       "        </table>\n",
       "        \n",
       "        <p>Total: 1</p></div>\n",
       "        "
      ],
      "text/plain": [
       "*volume_id     *resolution_id subject     session_dateti z_size     y_size     x_size     slicing_dimens channel     url           \n",
       "+------------+ +------------+ +---------+ +------------+ +--------+ +--------+ +--------+ +------------+ +---------+ +------------+\n",
       "takemura/takem 4              None        None           1460       750        750        z              image       https://api.bo\n",
       " (Total: 1)"
      ]
     },
     "execution_count": 7,
     "metadata": {},
     "output_type": "execute_result"
    }
   ],
   "source": [
    "volume.Volume()"
   ]
  },
  {
   "attachments": {},
   "cell_type": "markdown",
   "id": "f3c0c11d",
   "metadata": {},
   "source": [
    "With `Slice` corresponding to slices"
   ]
  },
  {
   "cell_type": "code",
   "execution_count": 8,
   "id": "9b1bc85d",
   "metadata": {},
   "outputs": [
    {
     "data": {
      "text/html": [
       "\n",
       "    \n",
       "    <style type=\"text/css\">\n",
       "        .Table{\n",
       "            border-collapse:collapse;\n",
       "        }\n",
       "        .Table th{\n",
       "            background: #565a72; color: #F8F8F2; padding:4px; border:#f0e0e0 1px solid;\n",
       "            font-weight: normal; font-family: monospace; font-size: 100%;\n",
       "        }\n",
       "        .Table td{\n",
       "            background: #282A36;\n",
       "            padding:4px; border:#f0e0e0 1px solid; font-size:100%;\n",
       "        }\n",
       "        .Table tr:nth-child(odd){\n",
       "            background: #44475A;\n",
       "        }\n",
       "        .Table tr:nth-child(even){\n",
       "            background: #282A36;\n",
       "        }\n",
       "        /* Tooltip container */\n",
       "        .djtooltip {\n",
       "        }\n",
       "        /* Tooltip text */\n",
       "        .djtooltip .djtooltiptext {\n",
       "            visibility: hidden;\n",
       "            width: 120px;\n",
       "            background-color: #282A36;\n",
       "            color: #6272A4;\n",
       "            text-align: center;\n",
       "            padding: 5px 0;\n",
       "            border-radius: 6px;\n",
       "            /* Position the tooltip text - see examples below! */\n",
       "            position: absolute;\n",
       "            z-index: 1;\n",
       "        }\n",
       "        #primary {\n",
       "            font-weight: bold;\n",
       "            color: #BD93F9;\n",
       "        }\n",
       "        #nonprimary {\n",
       "            font-weight: normal;\n",
       "            color: #F8F8F2;\n",
       "        }\n",
       "\n",
       "        /* Show the tooltip text when you mouse over the tooltip container */\n",
       "        .djtooltip:hover .djtooltiptext {\n",
       "            visibility: visible;\n",
       "        }\n",
       "    </style>\n",
       "    \n",
       "    <b>Slice of a given volume</b>\n",
       "        <div style=\"max-height:1000px;max-width:1500px;overflow:auto;\">\n",
       "        <table border=\"1\" class=\"Table\">\n",
       "            <thead> <tr style=\"text-align: right;\"> <th> <div class=\"djtooltip\">\n",
       "                            <p id=\"primary\">volume_id</p>\n",
       "                            <span class=\"djtooltiptext\">shorthand for this volume</span>\n",
       "                        </div></th><th><div class=\"djtooltip\">\n",
       "                            <p id=\"primary\">resolution_id</p>\n",
       "                            <span class=\"djtooltiptext\">Shorthand for convention. For BossDB, integer value.</span>\n",
       "                        </div></th><th><div class=\"djtooltip\">\n",
       "                            <p id=\"primary\">id</p>\n",
       "                            <span class=\"djtooltiptext\">Nth voxel in slicing_dimension</span>\n",
       "                        </div></th><th><div class=\"djtooltip\">\n",
       "                            <p id=\"primary\">zoom_id</p>\n",
       "                            <span class=\"djtooltiptext\">Shorthand for zoom convention</span>\n",
       "                        </div></th><th><div class=\"djtooltip\">\n",
       "                            <p id=\"nonprimary\">file_path</p>\n",
       "                            <span class=\"djtooltiptext\">filepath relative to root data directory</span>\n",
       "                        </div> </th> </tr> </thead>\n",
       "            <tbody> <tr> <td>takemura/takemura13</td>\n",
       "<td>4</td>\n",
       "<td>300</td>\n",
       "<td>X0-701_Y200-501</td>\n",
       "<td>takemura/takemura13/image/Res4_ZoomX0-701_Y200-501_Z300.png</td> </tr> </tbody>\n",
       "        </table>\n",
       "        \n",
       "        <p>Total: 1</p></div>\n",
       "        "
      ],
      "text/plain": [
       "*volume_id     *resolution_id *id     *zoom_id       file_path     \n",
       "+------------+ +------------+ +-----+ +------------+ +------------+\n",
       "takemura/takem 4              300     X0-701_Y200-50 takemura/takem\n",
       " (Total: 1)"
      ]
     },
     "execution_count": 8,
     "metadata": {},
     "output_type": "execute_result"
    }
   ],
   "source": [
    "volume.Volume.Slice()"
   ]
  },
  {
   "attachments": {},
   "cell_type": "markdown",
   "id": "41cd8e22",
   "metadata": {},
   "source": [
    "Each BossDB resolution will have a unique entry in the `Resolution` table"
   ]
  },
  {
   "cell_type": "code",
   "execution_count": 9,
   "id": "cd6d1bf2",
   "metadata": {},
   "outputs": [
    {
     "data": {
      "text/html": [
       "\n",
       "    \n",
       "    <style type=\"text/css\">\n",
       "        .Table{\n",
       "            border-collapse:collapse;\n",
       "        }\n",
       "        .Table th{\n",
       "            background: #565a72; color: #F8F8F2; padding:4px; border:#f0e0e0 1px solid;\n",
       "            font-weight: normal; font-family: monospace; font-size: 100%;\n",
       "        }\n",
       "        .Table td{\n",
       "            background: #282A36;\n",
       "            padding:4px; border:#f0e0e0 1px solid; font-size:100%;\n",
       "        }\n",
       "        .Table tr:nth-child(odd){\n",
       "            background: #44475A;\n",
       "        }\n",
       "        .Table tr:nth-child(even){\n",
       "            background: #282A36;\n",
       "        }\n",
       "        /* Tooltip container */\n",
       "        .djtooltip {\n",
       "        }\n",
       "        /* Tooltip text */\n",
       "        .djtooltip .djtooltiptext {\n",
       "            visibility: hidden;\n",
       "            width: 120px;\n",
       "            background-color: #282A36;\n",
       "            color: #6272A4;\n",
       "            text-align: center;\n",
       "            padding: 5px 0;\n",
       "            border-radius: 6px;\n",
       "            /* Position the tooltip text - see examples below! */\n",
       "            position: absolute;\n",
       "            z-index: 1;\n",
       "        }\n",
       "        #primary {\n",
       "            font-weight: bold;\n",
       "            color: #BD93F9;\n",
       "        }\n",
       "        #nonprimary {\n",
       "            font-weight: normal;\n",
       "            color: #F8F8F2;\n",
       "        }\n",
       "\n",
       "        /* Show the tooltip text when you mouse over the tooltip container */\n",
       "        .djtooltip:hover .djtooltiptext {\n",
       "            visibility: visible;\n",
       "        }\n",
       "    </style>\n",
       "    \n",
       "    <b>Resolution of stored data</b>\n",
       "        <div style=\"max-height:1000px;max-width:1500px;overflow:auto;\">\n",
       "        <table border=\"1\" class=\"Table\">\n",
       "            <thead> <tr style=\"text-align: right;\"> <th> <div class=\"djtooltip\">\n",
       "                            <p id=\"primary\">resolution_id</p>\n",
       "                            <span class=\"djtooltiptext\">Shorthand for convention. For BossDB, integer value.</span>\n",
       "                        </div></th><th><div class=\"djtooltip\">\n",
       "                            <p id=\"nonprimary\">voxel_unit</p>\n",
       "                            <span class=\"djtooltiptext\">e.g., nanometers</span>\n",
       "                        </div></th><th><div class=\"djtooltip\">\n",
       "                            <p id=\"nonprimary\">voxel_z_size</p>\n",
       "                            <span class=\"djtooltiptext\">size of one z dimension voxel in voxel_units</span>\n",
       "                        </div></th><th><div class=\"djtooltip\">\n",
       "                            <p id=\"nonprimary\">voxel_y_size</p>\n",
       "                            <span class=\"djtooltiptext\">size of one y dimension voxel in voxel_units</span>\n",
       "                        </div></th><th><div class=\"djtooltip\">\n",
       "                            <p id=\"nonprimary\">voxel_x_size</p>\n",
       "                            <span class=\"djtooltiptext\">size of one x dimension voxel in voxel_units</span>\n",
       "                        </div> </th> </tr> </thead>\n",
       "            <tbody> <tr> <td>4</td>\n",
       "<td>nanometers</td>\n",
       "<td>70.4</td>\n",
       "<td>70.4</td>\n",
       "<td>704.0</td> </tr> </tbody>\n",
       "        </table>\n",
       "        \n",
       "        <p>Total: 1</p></div>\n",
       "        "
      ],
      "text/plain": [
       "*resolution_id voxel_unit     voxel_z_size   voxel_y_size   voxel_x_size  \n",
       "+------------+ +------------+ +------------+ +------------+ +------------+\n",
       "4              nanometers     70.4           70.4           704.0         \n",
       " (Total: 1)"
      ]
     },
     "execution_count": 9,
     "metadata": {},
     "output_type": "execute_result"
    }
   ],
   "source": [
    "volume.Resolution()"
   ]
  },
  {
   "attachments": {},
   "cell_type": "markdown",
   "id": "0c3af9f3",
   "metadata": {},
   "source": [
    "And, the `Zoom` table retain information about the X/Y windows we use."
   ]
  },
  {
   "cell_type": "code",
   "execution_count": 10,
   "id": "1bb04cb4",
   "metadata": {},
   "outputs": [
    {
     "data": {
      "text/html": [
       "\n",
       "    \n",
       "    <style type=\"text/css\">\n",
       "        .Table{\n",
       "            border-collapse:collapse;\n",
       "        }\n",
       "        .Table th{\n",
       "            background: #565a72; color: #F8F8F2; padding:4px; border:#f0e0e0 1px solid;\n",
       "            font-weight: normal; font-family: monospace; font-size: 100%;\n",
       "        }\n",
       "        .Table td{\n",
       "            background: #282A36;\n",
       "            padding:4px; border:#f0e0e0 1px solid; font-size:100%;\n",
       "        }\n",
       "        .Table tr:nth-child(odd){\n",
       "            background: #44475A;\n",
       "        }\n",
       "        .Table tr:nth-child(even){\n",
       "            background: #282A36;\n",
       "        }\n",
       "        /* Tooltip container */\n",
       "        .djtooltip {\n",
       "        }\n",
       "        /* Tooltip text */\n",
       "        .djtooltip .djtooltiptext {\n",
       "            visibility: hidden;\n",
       "            width: 120px;\n",
       "            background-color: #282A36;\n",
       "            color: #6272A4;\n",
       "            text-align: center;\n",
       "            padding: 5px 0;\n",
       "            border-radius: 6px;\n",
       "            /* Position the tooltip text - see examples below! */\n",
       "            position: absolute;\n",
       "            z-index: 1;\n",
       "        }\n",
       "        #primary {\n",
       "            font-weight: bold;\n",
       "            color: #BD93F9;\n",
       "        }\n",
       "        #nonprimary {\n",
       "            font-weight: normal;\n",
       "            color: #F8F8F2;\n",
       "        }\n",
       "\n",
       "        /* Show the tooltip text when you mouse over the tooltip container */\n",
       "        .djtooltip:hover .djtooltiptext {\n",
       "            visibility: visible;\n",
       "        }\n",
       "    </style>\n",
       "    \n",
       "    <b>Image cutoffs when taking a subset of a given slice</b>\n",
       "        <div style=\"max-height:1000px;max-width:1500px;overflow:auto;\">\n",
       "        <table border=\"1\" class=\"Table\">\n",
       "            <thead> <tr style=\"text-align: right;\"> <th> <div class=\"djtooltip\">\n",
       "                            <p id=\"primary\">zoom_id</p>\n",
       "                            <span class=\"djtooltiptext\">Shorthand for zoom convention</span>\n",
       "                        </div></th><th><div class=\"djtooltip\">\n",
       "                            <p id=\"nonprimary\">first_start</p>\n",
       "                            <span class=\"djtooltiptext\">Starting voxel in first dimension (X if taking Z slices)</span>\n",
       "                        </div></th><th><div class=\"djtooltip\">\n",
       "                            <p id=\"nonprimary\">first_end</p>\n",
       "                            <span class=\"djtooltiptext\">Ending voxel plus 1 in first dimension</span>\n",
       "                        </div></th><th><div class=\"djtooltip\">\n",
       "                            <p id=\"nonprimary\">second_start</p>\n",
       "                            <span class=\"djtooltiptext\">Starting voxel in second dimension (Y if taking Z slices)</span>\n",
       "                        </div></th><th><div class=\"djtooltip\">\n",
       "                            <p id=\"nonprimary\">second_end</p>\n",
       "                            <span class=\"djtooltiptext\">Ending voxel plus 1 in second dimension</span>\n",
       "                        </div> </th> </tr> </thead>\n",
       "            <tbody> <tr> <td>Full Image</td>\n",
       "<td>0</td>\n",
       "<td>None</td>\n",
       "<td>0</td>\n",
       "<td>None</td></tr><tr><td>X0-701_Y200-501</td>\n",
       "<td>0</td>\n",
       "<td>701</td>\n",
       "<td>200</td>\n",
       "<td>501</td> </tr> </tbody>\n",
       "        </table>\n",
       "        \n",
       "        <p>Total: 2</p></div>\n",
       "        "
      ],
      "text/plain": [
       "*zoom_id       first_start    first_end     second_start   second_end    \n",
       "+------------+ +------------+ +-----------+ +------------+ +------------+\n",
       "Full Image     0              None          0              None          \n",
       "X0-701_Y200-50 0              701           200            501           \n",
       " (Total: 2)"
      ]
     },
     "execution_count": 10,
     "metadata": {},
     "output_type": "execute_result"
    }
   ],
   "source": [
    "volume.Zoom()"
   ]
  },
  {
   "attachments": {},
   "cell_type": "markdown",
   "id": "a77f183e",
   "metadata": {},
   "source": [
    "Changing any of these pieces of information would download different data."
   ]
  },
  {
   "cell_type": "code",
   "execution_count": 12,
   "id": "f0719128",
   "metadata": {},
   "outputs": [],
   "source": [
    "data.download(slice_key=(slice(300, 311), slice(100, 401), slice(100, 401)))"
   ]
  },
  {
   "cell_type": "code",
   "execution_count": null,
   "id": "a12b75a3",
   "metadata": {},
   "outputs": [],
   "source": []
  }
 ],
 "metadata": {
  "kernelspec": {
   "display_name": "ele",
   "language": "python",
   "name": "python3"
  },
  "language_info": {
   "codemirror_mode": {
    "name": "ipython",
    "version": 3
   },
   "file_extension": ".py",
   "mimetype": "text/x-python",
   "name": "python",
   "nbconvert_exporter": "python",
   "pygments_lexer": "ipython3",
   "version": "3.9.13 | packaged by conda-forge | (main, May 27 2022, 17:01:00) \n[Clang 13.0.1 ]"
  },
  "vscode": {
   "interpreter": {
    "hash": "d00c4ad21a7027bf1726d6ae3a9a6ef39c8838928eca5a3d5f51f3eb68720410"
   }
  }
 },
 "nbformat": 4,
 "nbformat_minor": 5
}
